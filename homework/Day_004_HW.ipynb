{
 "cells": [
  {
   "cell_type": "markdown",
   "metadata": {},
   "source": [
    "# EDA：欄位的資料類型介紹及處理 - 作業程式碼"
   ]
  },
  {
   "cell_type": "markdown",
   "metadata": {},
   "source": [
    "本次作業需要完成兩個部分：\n",
    "- Part1. 請按照下方程式碼提示，建立出 Series 與 DataFrame\n",
    "- Part2. 請上「政府資料開放平臺」，找到感興趣的資料集（限定檔案格式要 CSV 檔或是 Excel 檔），並匯入至 Python，進一步使用 .loc、.iloc 挑選出特定的資料\n",
    "\n",
    "政府資料開放平臺：https://data.gov.tw/"
   ]
  },
  {
   "cell_type": "code",
   "execution_count": 2,
   "metadata": {},
   "outputs": [],
   "source": [
    "import numpy as np\n",
    "import pandas as pd"
   ]
  },
  {
   "cell_type": "markdown",
   "metadata": {},
   "source": [
    "## Part1. 請按照下方程式碼提示，建立出 Series 與 DataFrame"
   ]
  },
  {
   "cell_type": "code",
   "execution_count": null,
   "metadata": {},
   "outputs": [],
   "source": [
    "a_list = [53, 12, 50, 39, 28, 59]\n",
    "\n",
    "\"\"\" 請使用 a_list 建立 Series \"\"\"\n",
    "pd.Series(a_list)"
   ]
  },
  {
   "cell_type": "code",
   "execution_count": null,
   "metadata": {},
   "outputs": [],
   "source": [
    "a_2D_list = [[14, 23, 36],\n",
    "             [41, 51, 64],\n",
    "             [77, 83, 93]]\n",
    "column_name_list = [\"Column_A\", \"Column_B\", \"Column_C\"]\n",
    "index_list = [\"Andy\", \"Tom\", \"Amy\"]\n",
    "\n",
    "\"\"\" 請使用 a_2D_list 建立 DataFrame，並分別使用 index_list、column_name_list 定義 Index 與 Column Name\"\"\"\n",
    "\n",
    "data_Frame = pd.DataFrame(a_2D_list, index=index_list, columns=column_name_list)\n",
    "data_Frame"
   ]
  },
  {
   "cell_type": "code",
   "execution_count": null,
   "metadata": {},
   "outputs": [],
   "source": []
  },
  {
   "cell_type": "markdown",
   "metadata": {},
   "source": [
    "## Part2. 請上「政府資料開放平臺」，找到感興趣的資料集（限定檔案格式要 CSV 檔或是 Excel 檔），並匯入至 Python，進一步使用 .loc、.iloc 挑選出特定的資料"
   ]
  },
  {
   "cell_type": "code",
   "execution_count": null,
   "metadata": {},
   "outputs": [],
   "source": [
    "\"\"\" 請匯入 CSV 檔案或是 Excel 檔案 \"\"\""
   ]
  },
  {
   "cell_type": "code",
   "execution_count": null,
   "metadata": {},
   "outputs": [],
   "source": [
    "\"\"\" 請使用 .loc 挑選出三組感興趣的資料，並詳細說明對哪三組資料感興趣\"\"\"\n"
   ]
  },
  {
   "cell_type": "code",
   "execution_count": null,
   "metadata": {},
   "outputs": [],
   "source": [
    "\"\"\" 請使用 .iloc 挑選出三組感興趣的資料，並詳細說明對哪三組資料感興趣\"\"\"\n"
   ]
  },
  {
   "cell_type": "code",
   "execution_count": null,
   "metadata": {},
   "outputs": [],
   "source": []
  },
  {
   "cell_type": "code",
   "execution_count": null,
   "metadata": {},
   "outputs": [],
   "source": []
  }
 ],
 "metadata": {
  "kernelspec": {
   "display_name": "Python 3.8.9 64-bit",
   "language": "python",
   "name": "python3"
  },
  "language_info": {
   "codemirror_mode": {
    "name": "ipython",
    "version": 3
   },
   "file_extension": ".py",
   "mimetype": "text/x-python",
   "name": "python",
   "nbconvert_exporter": "python",
   "pygments_lexer": "ipython3",
   "version": "3.8.9"
  },
  "orig_nbformat": 4,
  "vscode": {
   "interpreter": {
    "hash": "158ae04e2f2f0956d11d7c2a375b41032251c36f0a4035209b3d278a3645b1ef"
   }
  }
 },
 "nbformat": 4,
 "nbformat_minor": 2
}
