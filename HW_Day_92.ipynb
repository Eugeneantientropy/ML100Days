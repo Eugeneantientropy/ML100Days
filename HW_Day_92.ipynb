{
  "nbformat": 4,
  "nbformat_minor": 0,
  "metadata": {
    "colab": {
      "provenance": [],
      "authorship_tag": "ABX9TyOa3zID4gXpIngPF0qNAdTm",
      "include_colab_link": true
    },
    "kernelspec": {
      "name": "python3",
      "display_name": "Python 3"
    },
    "language_info": {
      "name": "python"
    }
  },
  "cells": [
    {
      "cell_type": "markdown",
      "metadata": {
        "id": "view-in-github",
        "colab_type": "text"
      },
      "source": [
        "<a href=\"https://colab.research.google.com/github/Eugeneantientropy/ML100Days/blob/main/HW_Day_92.ipynb\" target=\"_parent\"><img src=\"https://colab.research.google.com/assets/colab-badge.svg\" alt=\"Open In Colab\"/></a>"
      ]
    },
    {
      "cell_type": "markdown",
      "source": [],
      "metadata": {
        "id": "ZLF6F7GGJbGh"
      }
    },
    {
      "cell_type": "markdown",
      "source": [
        "請閱讀以下文獻，理解 CNN 原理後回答問題\n",
        "\n",
        "卷積神經網路原理 - 中文\n",
        "CNN for beginner’s guide\n",
        "若使用總共 128 個濾波器 (filters)，對一張 256x256 的影像做完卷積後，共會得到幾張特徵圖 (feature maps)？\n",
        "卷積神經網路中，濾波器的大小 (3x3 or 5x5) 與內部數字的值 (value) 是怎麼決定的呢？"
      ],
      "metadata": {
        "id": "laS1fcnDJcAV"
      }
    },
    {
      "cell_type": "markdown",
      "source": [
        "128 個濾波器 會生成 128 張特徵圖，這是卷積層的基本特徵。\n",
        "濾波器的 大小（例如 3x3 或 5x5）由設計者根據需要決定，通常選擇較小的濾波器（如 3x3）來減少計算量並捕捉局部特徵。"
      ],
      "metadata": {
        "id": "RXDC-kH6K3y0"
      }
    },
    {
      "cell_type": "code",
      "source": [],
      "metadata": {
        "id": "lwDL30OsK2Ns"
      },
      "execution_count": null,
      "outputs": []
    }
  ]
}